{
  "nbformat": 4,
  "nbformat_minor": 0,
  "metadata": {
    "colab": {
      "name": "python assignment 2.ipynb",
      "provenance": []
    },
    "kernelspec": {
      "name": "python3",
      "display_name": "Python 3"
    },
    "language_info": {
      "name": "python"
    }
  },
  "cells": [
    {
      "cell_type": "markdown",
      "metadata": {
        "id": "ljf0-O_OZHa4"
      },
      "source": [
        "1. Create the below pattern using nested for loop in Python. \n",
        "\n",
        "\n",
        "\n",
        "\n",
        "\n"
      ]
    },
    {
      "cell_type": "code",
      "metadata": {
        "colab": {
          "base_uri": "https://localhost:8080/"
        },
        "id": "Gk7AVOmJT8Be",
        "outputId": "5129dbc1-62cc-4396-a8cf-f1bda9da1f01"
      },
      "source": [
        "def pattern(n):\n",
        "  for i in range(0,n):\n",
        "    for j in range(1,i+1):\n",
        "      print(\"*\", end='')\n",
        "    print('\\r')\n",
        "  for i in range(n,0,-1):\n",
        "    for j in range(1,i+1):\n",
        "      print(\"*\", end='')\n",
        "    print('\\r')\n",
        "pattern(5)"
      ],
      "execution_count": null,
      "outputs": [
        {
          "output_type": "stream",
          "text": [
            "\r\n",
            "*\r\n",
            "**\r\n",
            "***\r\n",
            "****\r\n",
            "*****\r\n",
            "****\r\n",
            "***\r\n",
            "**\r\n",
            "*\r\n"
          ],
          "name": "stdout"
        }
      ]
    },
    {
      "cell_type": "markdown",
      "metadata": {
        "id": "P23ytylZZ9t8"
      },
      "source": [
        "2. Write a Python program to reverse a word after accepting the input from the user. "
      ]
    },
    {
      "cell_type": "code",
      "metadata": {
        "colab": {
          "base_uri": "https://localhost:8080/"
        },
        "id": "id3HpkGiRduc",
        "outputId": "c82287ac-1530-4186-ffde-d16c5279aa83"
      },
      "source": [
        "word = input(\"Input a word to reverse: \")\n",
        "\n",
        "for char in range(len(word) - 1, -1, -1):\n",
        "  print(word[char], end=\"\")\n",
        "print(\"\\n\")"
      ],
      "execution_count": 4,
      "outputs": [
        {
          "output_type": "stream",
          "name": "stdout",
          "text": [
            "Input a word to reverse: ineuron\n",
            "norueni\n",
            "\n"
          ]
        }
      ]
    }
  ]
}